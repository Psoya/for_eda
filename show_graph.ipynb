{
 "cells": [
  {
   "cell_type": "code",
   "execution_count": 303,
   "id": "8575d0e3-0aa1-4b02-99af-a7127950ba35",
   "metadata": {},
   "outputs": [],
   "source": [
    "import pandas as pd\n",
    "import numpy as np\n",
    "import os \n",
    "import seaborn as sns\n",
    "import matplotlib.pyplot as plt\n",
    "import warnings \n",
    "\n",
    "# 경고 메시지 숨기기\n",
    "warnings.filterwarnings(\"ignore\")\n",
    "# warnings.filterwarnings(\"default\")\n",
    "\n",
    "df = sns.load_dataset('titanic')\n"
   ]
  },
  {
   "cell_type": "code",
   "execution_count": 308,
   "id": "2274987b-3760-4e73-877a-5626ddc391fc",
   "metadata": {},
   "outputs": [],
   "source": [
    "def check_dtype(dataframe: pd.DataFrame):\n",
    "    for column in df.columns:\n",
    "        if df[column].dtype.name.startswith('float') | df[column].dtype.name.startswith('int'):\n",
    "            if set(df[column].unique()).difference({0,1}) == set():\n",
    "                df[column] = df[column].astype(bool)\n",
    "            elif all(np.isclose(df[column], df[column].astype(int))):\n",
    "                df[column] = df[column].astype(int)\n",
    "        elif df[column].dtype.name in ['object', 'category']:\n",
    "            if len(df[column].unique()) == 2:\n",
    "                if set(_.upper() for _ in df[column].unique()) in [{'YES', 'NO'}, {'Y', 'N'}, {'TRUE', 'FALSE'}, {'T', 'F'}]:\n",
    "                    bool_dict = {'YES':1, 'NO':0, 'Y':1, 'N':0, 'TRUE':1, 'FALSE':0, 'T':1, 'F':0}\n",
    "                    df[column] = df[column].apply(lambda x:bool_dict[x.upper()])\n",
    "    return df\n",
    "        "
   ]
  },
  {
   "cell_type": "code",
   "execution_count": 319,
   "id": "29be7edc-1c7d-454a-a080-ea97c2c0fe4a",
   "metadata": {},
   "outputs": [],
   "source": [
    "def show_graph_by_dtype(column: pd.Series):\n",
    "    print(f'\\n# COLUMN NAME : {column.name}')\n",
    "    if column.dtype.name.startswith('float'):\n",
    "        show_histogram(column)\n",
    "    elif column.dtype.name.startswith('int'):\n",
    "        if len(column.unique()) <= 5:\n",
    "            show_count_bar_plot(column)\n",
    "        else:\n",
    "            show_histogram(column)\n",
    "    elif column.dtype.name in ['object', 'category']:\n",
    "        show_count_bar_plot(column)\n",
    "    elif column.dtype.name.startswith('bool'):\n",
    "        show_count_bar_plot(column)\n",
    "    else:\n",
    "        raise f'check {column} dtype and add new code line'\n",
    "    "
   ]
  },
  {
   "cell_type": "code",
   "execution_count": 314,
   "id": "0454cfd2-eb14-40d7-99a4-85a624e7ea47",
   "metadata": {},
   "outputs": [],
   "source": [
    "def show_histogram(column: pd.Series):\n",
    "    na_count = column.isna().count()\n",
    "    bin_info_box = sns.histplot(column[column.notna()]).patches\n",
    "    bin_counts = [round(_.get_height()) for _ in bin_info_box]\n",
    "    left_bin_range = [round(_._x0, 2) for _ in bin_info_box]\n",
    "    left_bin_range.append(round(column.max(), 2))\n",
    "    plt.show()\n",
    "    print(f'전체 bin 개수 : {len(bin_counts)}')\n",
    "    print(f'전체 결측치 건수 : {na_count}\\n')\n",
    "    print('bin 최소 범위 ~ 최대 범위 : 빈도 수')\n",
    "    for idx in range(len(bin_counts)):\n",
    "        print(f'{left_bin_range[idx]} ~ {left_bin_range[idx+1]} : {bin_counts[idx]}')"
   ]
  },
  {
   "cell_type": "code",
   "execution_count": 315,
   "id": "6be4afeb-9a40-4843-b8e9-19599692ba1a",
   "metadata": {},
   "outputs": [],
   "source": [
    "def show_count_bar_plot(column: pd.Series):\n",
    "    bin_info_box = sns.countplot(column).patches\n",
    "    bin_counts = [round(_.get_height()) for _ in bin_info_box]\n",
    "    plt.show()\n",
    "\n",
    "    print(f'전체 클래스 개수 : {len(bin_counts)}\\n')\n",
    "    print('클래스 별 건수')\n",
    "    print(df['class'].value_counts().sort_index())"
   ]
  },
  {
   "cell_type": "code",
   "execution_count": 307,
   "id": "0bff85f8-6df9-4a04-b733-a56de501b6e5",
   "metadata": {},
   "outputs": [],
   "source": [
    "df.dropna(inplace=True)\n",
    "df = check_dtype(df)"
   ]
  },
  {
   "cell_type": "code",
   "execution_count": 322,
   "id": "c516ea7d-ad7c-4af4-aa98-442564040389",
   "metadata": {},
   "outputs": [
    {
     "name": "stdout",
     "output_type": "stream",
     "text": [
      "\n",
      "# COLUMN NAME : survived\n"
     ]
    },
    {
     "data": {
      "image/png": "[encoded data removed]",
      "text/plain": [
       "<Figure size 432x288 with 1 Axes>"
      ]
     },
     "metadata": {
      "needs_background": "light"
     },
     "output_type": "display_data"
    },
    {
     "name": "stdout",
     "output_type": "stream",
     "text": [
      "전체 클래스 개수 : 2\n",
      "\n",
      "클래스 별 건수\n",
      "First     157\n",
      "Second     15\n",
      "Third      10\n",
      "Name: class, dtype: int64\n",
      "\n",
      "# COLUMN NAME : pclass\n"
     ]
    },
    {
     "data": {
      "image/png": "[encoded data removed]",
      "text/plain": [
       "<Figure size 432x288 with 1 Axes>"
      ]
     },
     "metadata": {
      "needs_background": "light"
     },
     "output_type": "display_data"
    },
    {
     "name": "stdout",
     "output_type": "stream",
     "text": [
      "전체 클래스 개수 : 3\n",
      "\n",
      "클래스 별 건수\n",
      "First     157\n",
      "Second     15\n",
      "Third      10\n",
      "Name: class, dtype: int64\n",
      "\n",
      "# COLUMN NAME : sex\n"
     ]
    },
    {
     "data": {
      "image/png": "[encoded data removed]",
      "text/plain": [
       "<Figure size 432x288 with 1 Axes>"
      ]
     },
     "metadata": {
      "needs_background": "light"
     },
     "output_type": "display_data"
    },
    {
     "name": "stdout",
     "output_type": "stream",
     "text": [
      "전체 클래스 개수 : 2\n",
      "\n",
      "클래스 별 건수\n",
      "First     157\n",
      "Second     15\n",
      "Third      10\n",
      "Name: class, dtype: int64\n",
      "\n",
      "# COLUMN NAME : age\n"
     ]
    },
    {
     "data": {
      "image/png": "[encoded data removed]",
      "text/plain": [
       "<Figure size 432x288 with 1 Axes>"
      ]
     },
     "metadata": {
      "needs_background": "light"
     },
     "output_type": "display_data"
    },
    {
     "name": "stdout",
     "output_type": "stream",
     "text": [
      "전체 bin 개수 : 10\n",
      "전체 결측치 건수 : 182\n",
      "\n",
      "bin 최소 범위 ~ 최대 범위 : 빈도 수\n",
      "0.92 ~ 8.83 : 10\n",
      "8.83 ~ 16.74 : 6\n",
      "16.74 ~ 24.64 : 32\n",
      "24.64 ~ 32.55 : 30\n",
      "32.55 ~ 40.46 : 40\n",
      "40.46 ~ 48.37 : 23\n",
      "48.37 ~ 56.28 : 23\n",
      "56.28 ~ 64.18 : 13\n",
      "64.18 ~ 72.09 : 4\n",
      "72.09 ~ 80.0 : 1\n",
      "\n",
      "# COLUMN NAME : sibsp\n"
     ]
    },
    {
     "data": {
      "image/png": "[encoded data removed]",
      "text/plain": [
       "<Figure size 432x288 with 1 Axes>"
      ]
     },
     "metadata": {
      "needs_background": "light"
     },
     "output_type": "display_data"
    },
    {
     "name": "stdout",
     "output_type": "stream",
     "text": [
      "전체 클래스 개수 : 4\n",
      "\n",
      "클래스 별 건수\n",
      "First     157\n",
      "Second     15\n",
      "Third      10\n",
      "Name: class, dtype: int64\n",
      "\n",
      "# COLUMN NAME : parch\n"
     ]
    },
    {
     "data": {
      "image/png": "[encoded data removed]",
      "text/plain": [
       "<Figure size 432x288 with 1 Axes>"
      ]
     },
     "metadata": {
      "needs_background": "light"
     },
     "output_type": "display_data"
    },
    {
     "name": "stdout",
     "output_type": "stream",
     "text": [
      "전체 클래스 개수 : 4\n",
      "\n",
      "클래스 별 건수\n",
      "First     157\n",
      "Second     15\n",
      "Third      10\n",
      "Name: class, dtype: int64\n",
      "\n",
      "# COLUMN NAME : fare\n"
     ]
    },
    {
     "data": {
      "image/png": "[encoded data removed]",
      "text/plain": [
       "<Figure size 432x288 with 1 Axes>"
      ]
     },
     "metadata": {
      "needs_background": "light"
     },
     "output_type": "display_data"
    },
    {
     "name": "stdout",
     "output_type": "stream",
     "text": [
      "전체 bin 개수 : 25\n",
      "전체 결측치 건수 : 182\n",
      "\n",
      "bin 최소 범위 ~ 최대 범위 : 빈도 수\n",
      "0.0 ~ 20.49 : 23\n",
      "20.49 ~ 40.99 : 45\n",
      "40.99 ~ 61.48 : 27\n",
      "61.48 ~ 81.97 : 29\n",
      "81.97 ~ 102.47 : 17\n",
      "102.47 ~ 122.96 : 13\n",
      "122.96 ~ 143.45 : 4\n",
      "143.45 ~ 163.95 : 7\n",
      "163.95 ~ 184.44 : 1\n",
      "184.44 ~ 204.93 : 0\n",
      "204.93 ~ 225.42 : 4\n",
      "225.42 ~ 245.92 : 2\n",
      "245.92 ~ 266.41 : 8\n",
      "266.41 ~ 286.9 : 0\n",
      "286.9 ~ 307.4 : 0\n",
      "307.4 ~ 327.89 : 0\n",
      "327.89 ~ 348.38 : 0\n",
      "348.38 ~ 368.88 : 0\n",
      "368.88 ~ 389.37 : 0\n",
      "389.37 ~ 409.86 : 0\n",
      "409.86 ~ 430.36 : 0\n",
      "430.36 ~ 450.85 : 0\n",
      "450.85 ~ 471.34 : 0\n",
      "471.34 ~ 491.84 : 0\n",
      "491.84 ~ 512.33 : 2\n",
      "\n",
      "# COLUMN NAME : embarked\n"
     ]
    },
    {
     "data": {
      "image/png": "[encoded data removed]",
      "text/plain": [
       "<Figure size 432x288 with 1 Axes>"
      ]
     },
     "metadata": {
      "needs_background": "light"
     },
     "output_type": "display_data"
    },
    {
     "name": "stdout",
     "output_type": "stream",
     "text": [
      "전체 클래스 개수 : 3\n",
      "\n",
      "클래스 별 건수\n",
      "First     157\n",
      "Second     15\n",
      "Third      10\n",
      "Name: class, dtype: int64\n",
      "\n",
      "# COLUMN NAME : class\n"
     ]
    },
    {
     "data": {
      "image/png": "[encoded data removed]",
      "text/plain": [
       "<Figure size 432x288 with 1 Axes>"
      ]
     },
     "metadata": {
      "needs_background": "light"
     },
     "output_type": "display_data"
    },
    {
     "name": "stdout",
     "output_type": "stream",
     "text": [
      "전체 클래스 개수 : 3\n",
      "\n",
      "클래스 별 건수\n",
      "First     157\n",
      "Second     15\n",
      "Third      10\n",
      "Name: class, dtype: int64\n",
      "\n",
      "# COLUMN NAME : who\n"
     ]
    },
    {
     "data": {
      "image/png": "[encoded data removed]",
      "text/plain": [
       "<Figure size 432x288 with 1 Axes>"
      ]
     },
     "metadata": {
      "needs_background": "light"
     },
     "output_type": "display_data"
    },
    {
     "name": "stdout",
     "output_type": "stream",
     "text": [
      "전체 클래스 개수 : 3\n",
      "\n",
      "클래스 별 건수\n",
      "First     157\n",
      "Second     15\n",
      "Third      10\n",
      "Name: class, dtype: int64\n",
      "\n",
      "# COLUMN NAME : adult_male\n"
     ]
    },
    {
     "data": {
      "image/png": "[encoded data removed]",
      "text/plain": [
       "<Figure size 432x288 with 1 Axes>"
      ]
     },
     "metadata": {
      "needs_background": "light"
     },
     "output_type": "display_data"
    },
    {
     "name": "stdout",
     "output_type": "stream",
     "text": [
      "전체 클래스 개수 : 2\n",
      "\n",
      "클래스 별 건수\n",
      "First     157\n",
      "Second     15\n",
      "Third      10\n",
      "Name: class, dtype: int64\n",
      "\n",
      "# COLUMN NAME : deck\n"
     ]
    },
    {
     "data": {
      "image/png": "[encoded data removed]",
      "text/plain": [
       "<Figure size 432x288 with 1 Axes>"
      ]
     },
     "metadata": {
      "needs_background": "light"
     },
     "output_type": "display_data"
    },
    {
     "name": "stdout",
     "output_type": "stream",
     "text": [
      "전체 클래스 개수 : 7\n",
      "\n",
      "클래스 별 건수\n",
      "First     157\n",
      "Second     15\n",
      "Third      10\n",
      "Name: class, dtype: int64\n",
      "\n",
      "# COLUMN NAME : embark_town\n"
     ]
    },
    {
     "data": {
      "image/png": "[encoded data removed]",
      "text/plain": [
       "<Figure size 432x288 with 1 Axes>"
      ]
     },
     "metadata": {
      "needs_background": "light"
     },
     "output_type": "display_data"
    },
    {
     "name": "stdout",
     "output_type": "stream",
     "text": [
      "전체 클래스 개수 : 3\n",
      "\n",
      "클래스 별 건수\n",
      "First     157\n",
      "Second     15\n",
      "Third      10\n",
      "Name: class, dtype: int64\n",
      "\n",
      "# COLUMN NAME : alive\n"
     ]
    },
    {
     "data": {
      "image/png": "[encoded data removed]",
      "text/plain": [
       "<Figure size 432x288 with 1 Axes>"
      ]
     },
     "metadata": {
      "needs_background": "light"
     },
     "output_type": "display_data"
    },
    {
     "name": "stdout",
     "output_type": "stream",
     "text": [
      "전체 클래스 개수 : 2\n",
      "\n",
      "클래스 별 건수\n",
      "First     157\n",
      "Second     15\n",
      "Third      10\n",
      "Name: class, dtype: int64\n",
      "\n",
      "# COLUMN NAME : alone\n"
     ]
    },
    {
     "data": {
      "image/png": "[encoded data removed]",
      "text/plain": [
       "<Figure size 432x288 with 1 Axes>"
      ]
     },
     "metadata": {
      "needs_background": "light"
     },
     "output_type": "display_data"
    },
    {
     "name": "stdout",
     "output_type": "stream",
     "text": [
      "전체 클래스 개수 : 2\n",
      "\n",
      "클래스 별 건수\n",
      "First     157\n",
      "Second     15\n",
      "Third      10\n",
      "Name: class, dtype: int64\n"
     ]
    }
   ],
   "source": [
    "# %matplotlib qt \n",
    "# %matplotlib inline\n",
    "for _ in df.columns:\n",
    "    show_graph_by_dtype(df[_])"
   ]
  }
 ],
 "metadata": {
  "kernelspec": {
   "display_name": "Python 3 (ipykernel)",
   "language": "python",
   "name": "python3"
  },
  "language_info": {
   "codemirror_mode": {
    "name": "ipython",
    "version": 3
   },
   "file_extension": ".py",
   "mimetype": "text/x-python",
   "name": "python",
   "nbconvert_exporter": "python",
   "pygments_lexer": "ipython3",
   "version": "3.9.12"
  }
 },
 "nbformat": 4,
 "nbformat_minor": 5
}
